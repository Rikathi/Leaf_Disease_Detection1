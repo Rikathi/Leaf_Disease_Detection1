{
  "nbformat": 4,
  "nbformat_minor": 0,
  "metadata": {
    "colab": {
      "provenance": [],
      "gpuType": "T4"
    },
    "kernelspec": {
      "name": "python3",
      "display_name": "Python 3"
    },
    "language_info": {
      "name": "python"
    },
    "accelerator": "GPU"
  },
  "cells": [
    {
      "cell_type": "code",
      "execution_count": null,
      "metadata": {
        "colab": {
          "base_uri": "https://localhost:8080/"
        },
        "id": "4JpLHVyDhseN",
        "outputId": "ecea9280-c529-4631-a576-54d130bc133e"
      },
      "outputs": [
        {
          "output_type": "stream",
          "name": "stdout",
          "text": [
            "Mounted at /content/drive\n"
          ]
        }
      ],
      "source": [
        "from google.colab import drive\n",
        "\n",
        "# Mount Google Drive\n",
        "drive.mount('/content/drive')"
      ]
    },
    {
      "cell_type": "code",
      "source": [
        "import tensorflow as tf\n",
        "from tensorflow.keras.layers import Dense, GlobalAveragePooling2D\n",
        "from tensorflow.keras.models import Model\n",
        "from tensorflow.keras.applications import MobileNet\n",
        "from tensorflow.keras.optimizers import Adam\n",
        "from tensorflow.keras.preprocessing.image import ImageDataGenerator"
      ],
      "metadata": {
        "id": "ZXcx-BMKiHx_"
      },
      "execution_count": null,
      "outputs": []
    },
    {
      "cell_type": "code",
      "source": [
        "# Load the pre-trained MobileNet model (excluding the top classification layers)\n",
        "base_model = MobileNet(weights='imagenet', include_top=False, input_shape=(224, 224, 3))\n",
        "\n",
        "# Freeze the layers of the pre-trained model\n",
        "for layer in base_model.layers:\n",
        "    layer.trainable = False\n",
        "\n",
        "# Create a custom classification head for your 10 classes\n",
        "x = GlobalAveragePooling2D()(base_model.output)\n",
        "x = Dense(512, activation='relu')(x)\n",
        "x = Dense(256, activation='relu')(x)\n",
        "output = Dense(10, activation='softmax')(x)\n",
        "\n",
        "# Create a new model combining the base MobileNet and custom head\n",
        "model = Model(inputs=base_model.input, outputs=output)\n",
        "\n",
        "# Compile the model\n",
        "model.compile(optimizer=Adam(learning_rate=0.0001), loss='categorical_crossentropy', metrics=['accuracy'])"
      ],
      "metadata": {
        "colab": {
          "base_uri": "https://localhost:8080/"
        },
        "id": "uShykb8fiTGi",
        "outputId": "bf2d4232-fbc8-4c72-c877-ef90ad6a0957"
      },
      "execution_count": null,
      "outputs": [
        {
          "output_type": "stream",
          "name": "stdout",
          "text": [
            "Downloading data from https://storage.googleapis.com/tensorflow/keras-applications/mobilenet/mobilenet_1_0_224_tf_no_top.h5\n",
            "17225924/17225924 [==============================] - 0s 0us/step\n"
          ]
        }
      ]
    },
    {
      "cell_type": "code",
      "source": [
        "# Define data augmentation for training\n",
        "train_datagen = ImageDataGenerator(\n",
        "    rescale=1./255,\n",
        "    shear_range=0.2,\n",
        "    zoom_range=0.2,\n",
        "    horizontal_flip=True\n",
        ")\n",
        "\n",
        "# Define data augmentation for validation/testing\n",
        "val_datagen = ImageDataGenerator(rescale=1./255)\n",
        "\n",
        "# Load your dataset (replace 'train_dir' and 'val_dir' with your dataset directories)\n",
        "train_generator = train_datagen.flow_from_directory(\n",
        "    '/content/drive/MyDrive/Colab Notebooks/Leaf Disease/Tomato_Train',\n",
        "    target_size=(224, 224),\n",
        "    batch_size=32,\n",
        "    class_mode='categorical'\n",
        ")\n",
        "\n",
        "validation_generator = val_datagen.flow_from_directory(\n",
        "    '/content/drive/MyDrive/Colab Notebooks/Leaf Disease/Tomato_Val',\n",
        "    target_size=(224, 224),\n",
        "    batch_size=32,\n",
        "    class_mode='categorical'\n",
        ")\n",
        "\n"
      ],
      "metadata": {
        "colab": {
          "base_uri": "https://localhost:8080/"
        },
        "id": "sM3-8k3EihRa",
        "outputId": "04573b8c-53a6-4f18-ebbf-c80656d07604"
      },
      "execution_count": null,
      "outputs": [
        {
          "output_type": "stream",
          "name": "stdout",
          "text": [
            "Found 8950 images belonging to 10 classes.\n",
            "Found 2295 images belonging to 10 classes.\n"
          ]
        }
      ]
    },
    {
      "cell_type": "code",
      "source": [
        "# Train the model\n",
        "history = model.fit(\n",
        "    train_generator,\n",
        "    steps_per_epoch=len(train_generator),\n",
        "    epochs=25,\n",
        "    validation_data=validation_generator,\n",
        "    validation_steps=len(validation_generator)\n",
        ")"
      ],
      "metadata": {
        "colab": {
          "base_uri": "https://localhost:8080/"
        },
        "id": "wYeJsSGjixEp",
        "outputId": "66fa3187-b738-4eea-ef37-81abff41e8be"
      },
      "execution_count": null,
      "outputs": [
        {
          "output_type": "stream",
          "name": "stdout",
          "text": [
            "Epoch 1/25\n",
            "280/280 [==============================] - 2620s 9s/step - loss: 0.9830 - accuracy: 0.6906 - val_loss: 0.5292 - val_accuracy: 0.8292\n",
            "Epoch 2/25\n",
            "280/280 [==============================] - 134s 477ms/step - loss: 0.4264 - accuracy: 0.8663 - val_loss: 0.3784 - val_accuracy: 0.8789\n",
            "Epoch 3/25\n",
            "280/280 [==============================] - 131s 470ms/step - loss: 0.3208 - accuracy: 0.8984 - val_loss: 0.2798 - val_accuracy: 0.9085\n",
            "Epoch 4/25\n",
            "280/280 [==============================] - 132s 469ms/step - loss: 0.2658 - accuracy: 0.9111 - val_loss: 0.2866 - val_accuracy: 0.9059\n",
            "Epoch 5/25\n",
            "280/280 [==============================] - 131s 470ms/step - loss: 0.2272 - accuracy: 0.9245 - val_loss: 0.2459 - val_accuracy: 0.9242\n",
            "Epoch 6/25\n",
            "280/280 [==============================] - 134s 477ms/step - loss: 0.2091 - accuracy: 0.9307 - val_loss: 0.2337 - val_accuracy: 0.9277\n",
            "Epoch 7/25\n",
            "280/280 [==============================] - 131s 466ms/step - loss: 0.1823 - accuracy: 0.9435 - val_loss: 0.2082 - val_accuracy: 0.9342\n",
            "Epoch 8/25\n",
            "280/280 [==============================] - 131s 467ms/step - loss: 0.1617 - accuracy: 0.9479 - val_loss: 0.2280 - val_accuracy: 0.9220\n",
            "Epoch 9/25\n",
            "280/280 [==============================] - 134s 479ms/step - loss: 0.1511 - accuracy: 0.9502 - val_loss: 0.1999 - val_accuracy: 0.9277\n",
            "Epoch 10/25\n",
            "280/280 [==============================] - 131s 469ms/step - loss: 0.1352 - accuracy: 0.9560 - val_loss: 0.1887 - val_accuracy: 0.9377\n",
            "Epoch 11/25\n",
            "280/280 [==============================] - 129s 460ms/step - loss: 0.1280 - accuracy: 0.9604 - val_loss: 0.1852 - val_accuracy: 0.9355\n",
            "Epoch 12/25\n",
            "280/280 [==============================] - 130s 464ms/step - loss: 0.1147 - accuracy: 0.9637 - val_loss: 0.1722 - val_accuracy: 0.9412\n",
            "Epoch 13/25\n",
            "280/280 [==============================] - 130s 464ms/step - loss: 0.1038 - accuracy: 0.9669 - val_loss: 0.1891 - val_accuracy: 0.9333\n",
            "Epoch 14/25\n",
            "280/280 [==============================] - 134s 477ms/step - loss: 0.1067 - accuracy: 0.9646 - val_loss: 0.1702 - val_accuracy: 0.9429\n",
            "Epoch 15/25\n",
            "280/280 [==============================] - 131s 466ms/step - loss: 0.0926 - accuracy: 0.9689 - val_loss: 0.1634 - val_accuracy: 0.9473\n",
            "Epoch 16/25\n",
            "280/280 [==============================] - 133s 477ms/step - loss: 0.0924 - accuracy: 0.9704 - val_loss: 0.1703 - val_accuracy: 0.9407\n",
            "Epoch 17/25\n",
            "280/280 [==============================] - 135s 481ms/step - loss: 0.0770 - accuracy: 0.9762 - val_loss: 0.1647 - val_accuracy: 0.9429\n",
            "Epoch 18/25\n",
            "280/280 [==============================] - 130s 466ms/step - loss: 0.0792 - accuracy: 0.9742 - val_loss: 0.1773 - val_accuracy: 0.9429\n",
            "Epoch 19/25\n",
            "280/280 [==============================] - 132s 472ms/step - loss: 0.0768 - accuracy: 0.9737 - val_loss: 0.1648 - val_accuracy: 0.9412\n",
            "Epoch 20/25\n",
            "280/280 [==============================] - 134s 478ms/step - loss: 0.0666 - accuracy: 0.9789 - val_loss: 0.1726 - val_accuracy: 0.9447\n",
            "Epoch 21/25\n",
            "280/280 [==============================] - 141s 503ms/step - loss: 0.0621 - accuracy: 0.9815 - val_loss: 0.1619 - val_accuracy: 0.9447\n",
            "Epoch 22/25\n",
            "280/280 [==============================] - 138s 492ms/step - loss: 0.0634 - accuracy: 0.9788 - val_loss: 0.1504 - val_accuracy: 0.9495\n",
            "Epoch 23/25\n",
            "280/280 [==============================] - 134s 477ms/step - loss: 0.0589 - accuracy: 0.9827 - val_loss: 0.1609 - val_accuracy: 0.9416\n",
            "Epoch 24/25\n",
            "280/280 [==============================] - 131s 468ms/step - loss: 0.0588 - accuracy: 0.9812 - val_loss: 0.1473 - val_accuracy: 0.9542\n",
            "Epoch 25/25\n",
            "280/280 [==============================] - 129s 461ms/step - loss: 0.0530 - accuracy: 0.9832 - val_loss: 0.1475 - val_accuracy: 0.9582\n"
          ]
        }
      ]
    },
    {
      "cell_type": "code",
      "source": [
        "# Save the trained model\n",
        "model.save('/content/drive/MyDrive/Colab Notebooks/Leaf Disease/Models/Mobilenet_transfer_learning_model_1.h5')"
      ],
      "metadata": {
        "id": "p390IKoXjIGE"
      },
      "execution_count": null,
      "outputs": []
    },
    {
      "cell_type": "code",
      "source": [],
      "metadata": {
        "id": "htjSVRlWjYuC"
      },
      "execution_count": null,
      "outputs": []
    }
  ]
}