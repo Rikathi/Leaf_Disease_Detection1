{
  "nbformat": 4,
  "nbformat_minor": 0,
  "metadata": {
    "colab": {
      "provenance": [],
      "gpuType": "T4"
    },
    "kernelspec": {
      "name": "python3",
      "display_name": "Python 3"
    },
    "language_info": {
      "name": "python"
    },
    "accelerator": "GPU"
  },
  "cells": [
    {
      "cell_type": "code",
      "execution_count": null,
      "metadata": {
        "colab": {
          "base_uri": "https://localhost:8080/"
        },
        "id": "edWQC5WI5aoR",
        "outputId": "efcf8f31-1433-4a8d-e1b4-93f1c95847ac"
      },
      "outputs": [
        {
          "output_type": "stream",
          "name": "stdout",
          "text": [
            "Mounted at /content/drive\n"
          ]
        }
      ],
      "source": [
        "from google.colab import drive\n",
        "\n",
        "# Mount Google Drive\n",
        "drive.mount('/content/drive')"
      ]
    },
    {
      "cell_type": "code",
      "source": [
        "# import pandas as pd\n",
        "\n",
        "# # Define the path to your dataset CSV file\n",
        "# csv_file_path = '/content/drive/MyDrive/Colab Notebooks/Leaf Disease/Train_tomato.csv'\n",
        "\n",
        "# # Read the CSV file into a Pandas DataFrame\n",
        "# df = pd.read_csv(csv_file_path)\n",
        "\n",
        "# # Check the structure of the DataFrame\n",
        "# print(df.head())\n"
      ],
      "metadata": {
        "id": "YKLH1c865gVW"
      },
      "execution_count": null,
      "outputs": []
    },
    {
      "cell_type": "code",
      "source": [
        "import tensorflow as tf\n",
        "from tensorflow.keras.applications import VGG16\n",
        "from tensorflow.keras.layers import Dense, Flatten, Dropout\n",
        "from tensorflow.keras.models import Model\n",
        "from tensorflow.keras.optimizers import Adam\n",
        "from tensorflow.keras.preprocessing.image import ImageDataGenerator\n",
        "from sklearn.model_selection import train_test_split\n",
        "#from tensorflow.keras.callbacks import ReduceLROnPlateaulist\n",
        "from tensorflow.keras.layers import BatchNormalization\n",
        "from tensorflow.keras.layers import Conv2D"
      ],
      "metadata": {
        "id": "8X5WMSZk6EOS"
      },
      "execution_count": null,
      "outputs": []
    },
    {
      "cell_type": "code",
      "source": [
        "# # Split the data into training and validation sets (70% train, 30% validation)\n",
        "# train_df, validation_df = train_test_split(df, test_size=0.3, random_state=42)\n",
        "\n",
        "# # Check the number of samples in each set\n",
        "# print(\"Train set size:\", len(train_df))\n",
        "# print(\"Validation set size:\", len(validation_df))\n",
        "\n",
        "# # Assuming your CSV file has columns 'image_path' and 'label'\n",
        "# train_image_paths = train_df['Image labels'].tolist()\n",
        "# train_labels = train_df['Labels'].tolist()\n",
        "\n",
        "# validation_image_paths = validation_df['Image labels'].tolist()\n",
        "# validation_labels = validation_df['Labels'].tolist()"
      ],
      "metadata": {
        "id": "_VO9_vCA_ZuM"
      },
      "execution_count": null,
      "outputs": []
    },
    {
      "cell_type": "code",
      "source": [
        "# Load the pre-trained VGG16 model without the top (fully connected) layers\n",
        "base_model = VGG16(weights='imagenet', include_top=False, input_shape=(224, 224, 3))\n",
        "\n",
        "# Freeze the weights of the pre-trained layers\n",
        "for layer in base_model.layers:\n",
        "    layer.trainable = False\n",
        "\n",
        "\n",
        "# Add BatchNormalization after each convolutional layer\n",
        "x = base_model.output\n",
        "x = Conv2D(64, (3, 3), activation='relu', padding='same')(x)\n",
        "x = BatchNormalization()(x)\n",
        "\n",
        "# Add custom layers for your specific classification task\n",
        "x = Flatten()(base_model.output)\n",
        "x = Dense(256, activation='relu')(x)\n",
        "x = Dropout(0.5)(x)\n",
        "x = Dense(10, activation='softmax')(x)  # 10 output classes\n",
        "\n",
        "# Create the custom model\n",
        "model = Model(inputs=base_model.input, outputs=x)\n",
        "\n",
        "# Compile the model\n",
        "model.compile(optimizer=Adam(learning_rate=0.0001), loss='categorical_crossentropy', metrics=['accuracy'])\n",
        "\n",
        "\n",
        "\n"
      ],
      "metadata": {
        "id": "GuMIWlc16PgD",
        "colab": {
          "base_uri": "https://localhost:8080/"
        },
        "outputId": "7f70573e-cb61-4320-fec4-05637f05e750"
      },
      "execution_count": null,
      "outputs": [
        {
          "output_type": "stream",
          "name": "stdout",
          "text": [
            "Downloading data from https://storage.googleapis.com/tensorflow/keras-applications/vgg16/vgg16_weights_tf_dim_ordering_tf_kernels_notop.h5\n",
            "58889256/58889256 [==============================] - 0s 0us/step\n"
          ]
        }
      ]
    },
    {
      "cell_type": "code",
      "source": [
        "# Data augmentation and preprocessing\n",
        "datagen = ImageDataGenerator(\n",
        "    rescale=1./255,\n",
        "    rotation_range=20,\n",
        "    width_shift_range=0.2,\n",
        "    height_shift_range=0.2,\n",
        "    shear_range=0.2,\n",
        "    zoom_range=0.2,\n",
        "    horizontal_flip=True,\n",
        "    fill_mode='nearest'\n",
        ")\n",
        "\n",
        "# Load your dataset using the ImageDataGenerator\n",
        "train_generator = datagen.flow_from_directory(\n",
        "    '/content/drive/MyDrive/Colab Notebooks/Tomato_train_new',\n",
        "    target_size=(224, 224),\n",
        "    batch_size=32,\n",
        "    class_mode='categorical'\n",
        ")\n",
        "\n",
        "validation_generator = datagen.flow_from_directory(\n",
        "    '/content/drive/MyDrive/Colab Notebooks/Leaf Disease/Tomato_test',\n",
        "    target_size=(224, 224),\n",
        "    batch_size=32,\n",
        "    class_mode='categorical'\n",
        ")"
      ],
      "metadata": {
        "colab": {
          "base_uri": "https://localhost:8080/"
        },
        "id": "86Zuv8vd7H8t",
        "outputId": "5d1c9051-9973-47cb-eb0b-99a5ce8e01da"
      },
      "execution_count": null,
      "outputs": [
        {
          "output_type": "stream",
          "name": "stdout",
          "text": [
            "Found 8061 images belonging to 10 classes.\n",
            "Found 2295 images belonging to 10 classes.\n"
          ]
        }
      ]
    },
    {
      "cell_type": "code",
      "source": [
        "from tensorflow.keras.callbacks import ModelCheckpoint\n",
        "\n",
        "# Define a callback to save the best model\n",
        "checkpoint = ModelCheckpoint(\"/content/drive/MyDrive/Colab Notebooks/Leaf Disease/2_2_VGG16_new.h5\", monitor='val_loss', verbose=1, save_best_only=True, mode='min')\n",
        "\n",
        "# Train the model with the callback\n",
        "history = model.fit(\n",
        "    train_generator,\n",
        "    steps_per_epoch=len(train_generator),\n",
        "    epochs=40,\n",
        "    validation_data=validation_generator,\n",
        "    validation_steps=len(validation_generator),\n",
        "    callbacks=[checkpoint]\n",
        ")"
      ],
      "metadata": {
        "colab": {
          "base_uri": "https://localhost:8080/"
        },
        "id": "wBa6cxO9-wD_",
        "outputId": "deecac75-97f1-4e9f-f929-3a6f075a4531"
      },
      "execution_count": null,
      "outputs": [
        {
          "output_type": "stream",
          "name": "stdout",
          "text": [
            "Epoch 1/40\n",
            "252/252 [==============================] - ETA: 0s - loss: 1.9768 - accuracy: 0.2893\n",
            "Epoch 1: val_loss improved from inf to 1.85766, saving model to /content/drive/MyDrive/Colab Notebooks/Leaf Disease/2_2_VGG16_new.h5\n"
          ]
        },
        {
          "output_type": "stream",
          "name": "stderr",
          "text": [
            "/usr/local/lib/python3.10/dist-packages/keras/src/engine/training.py:3000: UserWarning: You are saving your model as an HDF5 file via `model.save()`. This file format is considered legacy. We recommend using instead the native Keras format, e.g. `model.save('my_model.keras')`.\n",
            "  saving_api.save_model(\n"
          ]
        },
        {
          "output_type": "stream",
          "name": "stdout",
          "text": [
            "\b\b\b\b\b\b\b\b\b\b\b\b\b\b\b\b\b\b\b\b\b\b\b\b\b\b\b\b\b\b\b\b\b\b\b\b\b\b\b\b\b\b\b\b\b\b\b\b\b\b\b\b\b\b\b\b\b\b\b\b\b\b\b\b\b\b\b\b\b\b\b\b\b\b\b\b\b\b\b\b\b\b\b\b\r252/252 [==============================] - 2206s 9s/step - loss: 1.9768 - accuracy: 0.2893 - val_loss: 1.8577 - val_accuracy: 0.3495\n",
            "Epoch 2/40\n",
            "252/252 [==============================] - ETA: 0s - loss: 1.6488 - accuracy: 0.4217\n",
            "Epoch 2: val_loss improved from 1.85766 to 1.66270, saving model to /content/drive/MyDrive/Colab Notebooks/Leaf Disease/2_2_VGG16_new.h5\n",
            "252/252 [==============================] - 166s 658ms/step - loss: 1.6488 - accuracy: 0.4217 - val_loss: 1.6627 - val_accuracy: 0.4240\n",
            "Epoch 3/40\n",
            "252/252 [==============================] - ETA: 0s - loss: 1.5130 - accuracy: 0.4865\n",
            "Epoch 3: val_loss improved from 1.66270 to 1.59709, saving model to /content/drive/MyDrive/Colab Notebooks/Leaf Disease/2_2_VGG16_new.h5\n",
            "252/252 [==============================] - 157s 624ms/step - loss: 1.5130 - accuracy: 0.4865 - val_loss: 1.5971 - val_accuracy: 0.4519\n",
            "Epoch 4/40\n",
            "252/252 [==============================] - ETA: 0s - loss: 1.4324 - accuracy: 0.4987\n",
            "Epoch 4: val_loss improved from 1.59709 to 1.47443, saving model to /content/drive/MyDrive/Colab Notebooks/Leaf Disease/2_2_VGG16_new.h5\n",
            "252/252 [==============================] - 158s 627ms/step - loss: 1.4324 - accuracy: 0.4987 - val_loss: 1.4744 - val_accuracy: 0.4954\n",
            "Epoch 5/40\n",
            "252/252 [==============================] - ETA: 0s - loss: 1.3536 - accuracy: 0.5317\n",
            "Epoch 5: val_loss did not improve from 1.47443\n",
            "252/252 [==============================] - 164s 651ms/step - loss: 1.3536 - accuracy: 0.5317 - val_loss: 1.5137 - val_accuracy: 0.4675\n",
            "Epoch 6/40\n",
            "252/252 [==============================] - ETA: 0s - loss: 1.3140 - accuracy: 0.5436\n",
            "Epoch 6: val_loss improved from 1.47443 to 1.45926, saving model to /content/drive/MyDrive/Colab Notebooks/Leaf Disease/2_2_VGG16_new.h5\n",
            "252/252 [==============================] - 167s 662ms/step - loss: 1.3140 - accuracy: 0.5436 - val_loss: 1.4593 - val_accuracy: 0.4946\n",
            "Epoch 7/40\n",
            "252/252 [==============================] - ETA: 0s - loss: 1.2781 - accuracy: 0.5573\n",
            "Epoch 7: val_loss improved from 1.45926 to 1.40286, saving model to /content/drive/MyDrive/Colab Notebooks/Leaf Disease/2_2_VGG16_new.h5\n",
            "252/252 [==============================] - 169s 669ms/step - loss: 1.2781 - accuracy: 0.5573 - val_loss: 1.4029 - val_accuracy: 0.5063\n",
            "Epoch 8/40\n",
            "252/252 [==============================] - ETA: 0s - loss: 1.2489 - accuracy: 0.5705\n",
            "Epoch 8: val_loss improved from 1.40286 to 1.37825, saving model to /content/drive/MyDrive/Colab Notebooks/Leaf Disease/2_2_VGG16_new.h5\n",
            "252/252 [==============================] - 159s 632ms/step - loss: 1.2489 - accuracy: 0.5705 - val_loss: 1.3782 - val_accuracy: 0.5198\n",
            "Epoch 9/40\n",
            "252/252 [==============================] - ETA: 0s - loss: 1.2025 - accuracy: 0.5855\n",
            "Epoch 9: val_loss improved from 1.37825 to 1.37221, saving model to /content/drive/MyDrive/Colab Notebooks/Leaf Disease/2_2_VGG16_new.h5\n",
            "252/252 [==============================] - 160s 634ms/step - loss: 1.2025 - accuracy: 0.5855 - val_loss: 1.3722 - val_accuracy: 0.5211\n",
            "Epoch 10/40\n",
            "252/252 [==============================] - ETA: 0s - loss: 1.1710 - accuracy: 0.5910\n",
            "Epoch 10: val_loss did not improve from 1.37221\n",
            "252/252 [==============================] - 156s 619ms/step - loss: 1.1710 - accuracy: 0.5910 - val_loss: 1.3772 - val_accuracy: 0.5133\n",
            "Epoch 11/40\n",
            "252/252 [==============================] - ETA: 0s - loss: 1.1565 - accuracy: 0.5953\n",
            "Epoch 11: val_loss did not improve from 1.37221\n",
            "252/252 [==============================] - 159s 633ms/step - loss: 1.1565 - accuracy: 0.5953 - val_loss: 1.3849 - val_accuracy: 0.5181\n",
            "Epoch 12/40\n",
            "252/252 [==============================] - ETA: 0s - loss: 1.1238 - accuracy: 0.6147\n",
            "Epoch 12: val_loss improved from 1.37221 to 1.33965, saving model to /content/drive/MyDrive/Colab Notebooks/Leaf Disease/2_2_VGG16_new.h5\n",
            "252/252 [==============================] - 161s 641ms/step - loss: 1.1238 - accuracy: 0.6147 - val_loss: 1.3396 - val_accuracy: 0.5329\n",
            "Epoch 13/40\n",
            "252/252 [==============================] - ETA: 0s - loss: 1.1179 - accuracy: 0.6173\n",
            "Epoch 13: val_loss improved from 1.33965 to 1.32552, saving model to /content/drive/MyDrive/Colab Notebooks/Leaf Disease/2_2_VGG16_new.h5\n",
            "252/252 [==============================] - 161s 637ms/step - loss: 1.1179 - accuracy: 0.6173 - val_loss: 1.3255 - val_accuracy: 0.5447\n",
            "Epoch 14/40\n",
            "252/252 [==============================] - ETA: 0s - loss: 1.0831 - accuracy: 0.6287\n",
            "Epoch 14: val_loss improved from 1.32552 to 1.27128, saving model to /content/drive/MyDrive/Colab Notebooks/Leaf Disease/2_2_VGG16_new.h5\n",
            "252/252 [==============================] - 162s 640ms/step - loss: 1.0831 - accuracy: 0.6287 - val_loss: 1.2713 - val_accuracy: 0.5495\n",
            "Epoch 15/40\n",
            "252/252 [==============================] - ETA: 0s - loss: 1.0765 - accuracy: 0.6225\n",
            "Epoch 15: val_loss did not improve from 1.27128\n",
            "252/252 [==============================] - 159s 632ms/step - loss: 1.0765 - accuracy: 0.6225 - val_loss: 1.3455 - val_accuracy: 0.5281\n",
            "Epoch 16/40\n",
            "252/252 [==============================] - ETA: 0s - loss: 1.0571 - accuracy: 0.6316\n",
            "Epoch 16: val_loss improved from 1.27128 to 1.26741, saving model to /content/drive/MyDrive/Colab Notebooks/Leaf Disease/2_2_VGG16_new.h5\n",
            "252/252 [==============================] - 161s 638ms/step - loss: 1.0571 - accuracy: 0.6316 - val_loss: 1.2674 - val_accuracy: 0.5508\n",
            "Epoch 17/40\n",
            "252/252 [==============================] - ETA: 0s - loss: 1.0350 - accuracy: 0.6461\n",
            "Epoch 17: val_loss did not improve from 1.26741\n",
            "252/252 [==============================] - 165s 653ms/step - loss: 1.0350 - accuracy: 0.6461 - val_loss: 1.3282 - val_accuracy: 0.5264\n",
            "Epoch 18/40\n",
            "252/252 [==============================] - ETA: 0s - loss: 1.0340 - accuracy: 0.6424\n",
            "Epoch 18: val_loss improved from 1.26741 to 1.22796, saving model to /content/drive/MyDrive/Colab Notebooks/Leaf Disease/2_2_VGG16_new.h5\n",
            "252/252 [==============================] - 170s 673ms/step - loss: 1.0340 - accuracy: 0.6424 - val_loss: 1.2280 - val_accuracy: 0.5795\n",
            "Epoch 19/40\n",
            "252/252 [==============================] - ETA: 0s - loss: 1.0095 - accuracy: 0.6560\n",
            "Epoch 19: val_loss did not improve from 1.22796\n",
            "252/252 [==============================] - 169s 672ms/step - loss: 1.0095 - accuracy: 0.6560 - val_loss: 1.2777 - val_accuracy: 0.5573\n",
            "Epoch 20/40\n",
            "252/252 [==============================] - ETA: 0s - loss: 1.0131 - accuracy: 0.6571\n",
            "Epoch 20: val_loss did not improve from 1.22796\n",
            "252/252 [==============================] - 161s 638ms/step - loss: 1.0131 - accuracy: 0.6571 - val_loss: 1.2860 - val_accuracy: 0.5490\n",
            "Epoch 21/40\n",
            "252/252 [==============================] - ETA: 0s - loss: 1.0010 - accuracy: 0.6556\n",
            "Epoch 21: val_loss did not improve from 1.22796\n",
            "252/252 [==============================] - 162s 642ms/step - loss: 1.0010 - accuracy: 0.6556 - val_loss: 1.3018 - val_accuracy: 0.5412\n",
            "Epoch 22/40\n",
            "252/252 [==============================] - ETA: 0s - loss: 0.9972 - accuracy: 0.6577\n",
            "Epoch 22: val_loss did not improve from 1.22796\n",
            "252/252 [==============================] - 163s 647ms/step - loss: 0.9972 - accuracy: 0.6577 - val_loss: 1.2409 - val_accuracy: 0.5595\n",
            "Epoch 23/40\n",
            "252/252 [==============================] - ETA: 0s - loss: 0.9856 - accuracy: 0.6610\n",
            "Epoch 23: val_loss did not improve from 1.22796\n",
            "252/252 [==============================] - 160s 636ms/step - loss: 0.9856 - accuracy: 0.6610 - val_loss: 1.2458 - val_accuracy: 0.5599\n",
            "Epoch 24/40\n",
            "252/252 [==============================] - ETA: 0s - loss: 0.9742 - accuracy: 0.6642\n",
            "Epoch 24: val_loss did not improve from 1.22796\n",
            "252/252 [==============================] - 161s 638ms/step - loss: 0.9742 - accuracy: 0.6642 - val_loss: 1.2285 - val_accuracy: 0.5721\n",
            "Epoch 25/40\n",
            "252/252 [==============================] - ETA: 0s - loss: 0.9698 - accuracy: 0.6628\n",
            "Epoch 25: val_loss did not improve from 1.22796\n",
            "252/252 [==============================] - 161s 639ms/step - loss: 0.9698 - accuracy: 0.6628 - val_loss: 1.2788 - val_accuracy: 0.5512\n",
            "Epoch 26/40\n",
            "252/252 [==============================] - ETA: 0s - loss: 0.9464 - accuracy: 0.6716\n",
            "Epoch 26: val_loss improved from 1.22796 to 1.20197, saving model to /content/drive/MyDrive/Colab Notebooks/Leaf Disease/2_2_VGG16_new.h5\n",
            "252/252 [==============================] - 168s 665ms/step - loss: 0.9464 - accuracy: 0.6716 - val_loss: 1.2020 - val_accuracy: 0.5782\n",
            "Epoch 27/40\n",
            "252/252 [==============================] - ETA: 0s - loss: 0.9472 - accuracy: 0.6782\n",
            "Epoch 27: val_loss did not improve from 1.20197\n",
            "252/252 [==============================] - 167s 662ms/step - loss: 0.9472 - accuracy: 0.6782 - val_loss: 1.2371 - val_accuracy: 0.5725\n",
            "Epoch 28/40\n",
            "252/252 [==============================] - ETA: 0s - loss: 0.9528 - accuracy: 0.6744\n",
            "Epoch 28: val_loss improved from 1.20197 to 1.15584, saving model to /content/drive/MyDrive/Colab Notebooks/Leaf Disease/2_2_VGG16_new.h5\n",
            "252/252 [==============================] - 171s 678ms/step - loss: 0.9528 - accuracy: 0.6744 - val_loss: 1.1558 - val_accuracy: 0.5913\n",
            "Epoch 29/40\n",
            "252/252 [==============================] - ETA: 0s - loss: 0.9322 - accuracy: 0.6804\n",
            "Epoch 29: val_loss did not improve from 1.15584\n",
            "252/252 [==============================] - 172s 682ms/step - loss: 0.9322 - accuracy: 0.6804 - val_loss: 1.3185 - val_accuracy: 0.5346\n",
            "Epoch 30/40\n",
            "252/252 [==============================] - ETA: 0s - loss: 0.9336 - accuracy: 0.6799\n",
            "Epoch 30: val_loss did not improve from 1.15584\n",
            "252/252 [==============================] - 173s 686ms/step - loss: 0.9336 - accuracy: 0.6799 - val_loss: 1.1976 - val_accuracy: 0.5791\n",
            "Epoch 31/40\n",
            "252/252 [==============================] - ETA: 0s - loss: 0.9194 - accuracy: 0.6847\n",
            "Epoch 31: val_loss did not improve from 1.15584\n",
            "252/252 [==============================] - 172s 682ms/step - loss: 0.9194 - accuracy: 0.6847 - val_loss: 1.2184 - val_accuracy: 0.5621\n",
            "Epoch 32/40\n",
            "252/252 [==============================] - ETA: 0s - loss: 0.9196 - accuracy: 0.6829\n",
            "Epoch 32: val_loss did not improve from 1.15584\n",
            "252/252 [==============================] - 166s 658ms/step - loss: 0.9196 - accuracy: 0.6829 - val_loss: 1.1723 - val_accuracy: 0.5782\n",
            "Epoch 33/40\n",
            "252/252 [==============================] - ETA: 0s - loss: 0.9097 - accuracy: 0.6880\n",
            "Epoch 33: val_loss did not improve from 1.15584\n",
            "252/252 [==============================] - 169s 673ms/step - loss: 0.9097 - accuracy: 0.6880 - val_loss: 1.1748 - val_accuracy: 0.6000\n",
            "Epoch 34/40\n",
            "252/252 [==============================] - ETA: 0s - loss: 0.8998 - accuracy: 0.6885\n",
            "Epoch 34: val_loss did not improve from 1.15584\n",
            "252/252 [==============================] - 173s 687ms/step - loss: 0.8998 - accuracy: 0.6885 - val_loss: 1.2652 - val_accuracy: 0.5416\n",
            "Epoch 35/40\n",
            "252/252 [==============================] - ETA: 0s - loss: 0.8849 - accuracy: 0.6973\n",
            "Epoch 35: val_loss did not improve from 1.15584\n",
            "252/252 [==============================] - 168s 668ms/step - loss: 0.8849 - accuracy: 0.6973 - val_loss: 1.1775 - val_accuracy: 0.5826\n",
            "Epoch 36/40\n",
            "252/252 [==============================] - ETA: 0s - loss: 0.8778 - accuracy: 0.6945\n",
            "Epoch 36: val_loss did not improve from 1.15584\n",
            "252/252 [==============================] - 172s 685ms/step - loss: 0.8778 - accuracy: 0.6945 - val_loss: 1.2054 - val_accuracy: 0.5730\n",
            "Epoch 37/40\n",
            "252/252 [==============================] - ETA: 0s - loss: 0.8887 - accuracy: 0.6982\n",
            "Epoch 37: val_loss did not improve from 1.15584\n",
            "252/252 [==============================] - 168s 666ms/step - loss: 0.8887 - accuracy: 0.6982 - val_loss: 1.1770 - val_accuracy: 0.5904\n",
            "Epoch 38/40\n",
            "252/252 [==============================] - ETA: 0s - loss: 0.8874 - accuracy: 0.6976\n",
            "Epoch 38: val_loss did not improve from 1.15584\n",
            "252/252 [==============================] - 173s 686ms/step - loss: 0.8874 - accuracy: 0.6976 - val_loss: 1.1722 - val_accuracy: 0.5926\n",
            "Epoch 39/40\n",
            "252/252 [==============================] - ETA: 0s - loss: 0.8782 - accuracy: 0.6987\n",
            "Epoch 39: val_loss did not improve from 1.15584\n",
            "252/252 [==============================] - 169s 670ms/step - loss: 0.8782 - accuracy: 0.6987 - val_loss: 1.2176 - val_accuracy: 0.5734\n",
            "Epoch 40/40\n",
            "252/252 [==============================] - ETA: 0s - loss: 0.8837 - accuracy: 0.6968\n",
            "Epoch 40: val_loss improved from 1.15584 to 1.15034, saving model to /content/drive/MyDrive/Colab Notebooks/Leaf Disease/2_2_VGG16_new.h5\n",
            "252/252 [==============================] - 168s 668ms/step - loss: 0.8837 - accuracy: 0.6968 - val_loss: 1.1503 - val_accuracy: 0.5861\n"
          ]
        }
      ]
    },
    {
      "cell_type": "code",
      "source": [
        "# Save the trained model\n",
        "model.save('/content/drive/MyDrive/Colab Notebooks/Leaf Disease/Models/vgg16_transfer_learning_model_3.h5')"
      ],
      "metadata": {
        "id": "E9I218XyCVhJ"
      },
      "execution_count": null,
      "outputs": []
    },
    {
      "cell_type": "code",
      "source": [
        "model = tf.keras.models.load_model('/content/drive/MyDrive/Leaf Disease/Models/vgg16_transfer_learning_model_1.h5')"
      ],
      "metadata": {
        "id": "4OV_ZKVjEavS"
      },
      "execution_count": null,
      "outputs": []
    },
    {
      "cell_type": "code",
      "source": [
        "import os"
      ],
      "metadata": {
        "id": "7zPrMJWScslM"
      },
      "execution_count": null,
      "outputs": []
    },
    {
      "cell_type": "code",
      "source": [
        "os.path.getsize('/content/drive/MyDrive/Leaf Disease/Models/vgg16_transfer_learning_model_1.h5')"
      ],
      "metadata": {
        "id": "biWCGuUcbv1O",
        "colab": {
          "base_uri": "https://localhost:8080/"
        },
        "outputId": "3355f46c-f2aa-4ce8-c1b2-42176a13a3c6"
      },
      "execution_count": null,
      "outputs": [
        {
          "output_type": "execute_result",
          "data": {
            "text/plain": [
              "136051528"
            ]
          },
          "metadata": {},
          "execution_count": 9
        }
      ]
    },
    {
      "cell_type": "code",
      "source": [
        "model_tflite = 'vgg16_transfer_learning_model_3.tflite'\n",
        "tf_lite_convertor = tf.lite.TFLiteConverter.from_keras_model(model)\n",
        "tf_lite_model = tf_lite_convertor.convert()\n",
        "open(model_tflite, \"wb\").write(tf_lite_model)"
      ],
      "metadata": {
        "colab": {
          "base_uri": "https://localhost:8080/"
        },
        "id": "J0n9k_I5dB2X",
        "outputId": "4b0048d9-044e-40ea-b914-9dd6572276ea"
      },
      "execution_count": null,
      "outputs": [
        {
          "output_type": "execute_result",
          "data": {
            "text/plain": [
              "84569652"
            ]
          },
          "metadata": {},
          "execution_count": 10
        }
      ]
    },
    {
      "cell_type": "code",
      "source": [
        "1 - 0.6213235294117647"
      ],
      "metadata": {
        "colab": {
          "base_uri": "https://localhost:8080/"
        },
        "id": "bw3LgMAneMg1",
        "outputId": "7614a038-1332-482b-c54a-6ab64768a3ab"
      },
      "execution_count": null,
      "outputs": [
        {
          "output_type": "execute_result",
          "data": {
            "text/plain": [
              "0.3786764705882353"
            ]
          },
          "metadata": {},
          "execution_count": 12
        }
      ]
    },
    {
      "cell_type": "code",
      "source": [
        "interpreter = tf.lite.Interpreter(model_path = model_tflite)\n",
        "input_details = interpreter.get_input_details()\n",
        "output_details = interpreter.get_output_details()\n",
        "print(\"Input shape\",input_details[0]['shape'])\n",
        "print(\"Input Type\",input_details[0]['dtype'])\n",
        "print(\"Output shape\",output_details[0]['shape'])\n",
        "print(\"Output Type\",output_details[0]['dtype'])"
      ],
      "metadata": {
        "colab": {
          "base_uri": "https://localhost:8080/"
        },
        "id": "0UFnE7RzfluP",
        "outputId": "fada2ead-a30d-450f-f81b-e2c4270a399c"
      },
      "execution_count": null,
      "outputs": [
        {
          "output_type": "stream",
          "name": "stdout",
          "text": [
            "Input shape [  1 224 224   3]\n",
            "Input Type <class 'numpy.float32'>\n",
            "Output shape [ 1 10]\n",
            "Output Type <class 'numpy.float32'>\n"
          ]
        }
      ]
    },
    {
      "cell_type": "code",
      "source": [
        "tf_lite_convertor.optimizations = [tf.lite.Optimize.OPTIMIZE_FOR_SIZE]\n",
        "tflite_model = tf_lite_convertor.convert()\n",
        "quantized_model = 'quantized_model.tflite'\n",
        "open(quantized_model,\"wb\").write(tflite_model)"
      ],
      "metadata": {
        "colab": {
          "base_uri": "https://localhost:8080/"
        },
        "id": "yY7sZIu2j7h6",
        "outputId": "da43cc50-419b-4bc7-9128-e145f31da411"
      },
      "execution_count": null,
      "outputs": [
        {
          "output_type": "stream",
          "name": "stderr",
          "text": [
            "WARNING:absl:Optimization option OPTIMIZE_FOR_SIZE is deprecated, please use optimizations=[Optimize.DEFAULT] instead.\n",
            "WARNING:absl:Optimization option OPTIMIZE_FOR_SIZE is deprecated, please use optimizations=[Optimize.DEFAULT] instead.\n",
            "WARNING:absl:Optimization option OPTIMIZE_FOR_SIZE is deprecated, please use optimizations=[Optimize.DEFAULT] instead.\n"
          ]
        },
        {
          "output_type": "execute_result",
          "data": {
            "text/plain": [
              "21214120"
            ]
          },
          "metadata": {},
          "execution_count": 20
        }
      ]
    },
    {
      "cell_type": "code",
      "source": [
        "tf_lite_convertor.optimizations = [tf.lite.Optimize.DEFAULT]\n",
        "tflite_model = tf_lite_convertor.convert()\n",
        "quantized_model = 'quantized_model1.tflite'\n",
        "open(quantized_model,\"wb\").write(tflite_model)"
      ],
      "metadata": {
        "colab": {
          "base_uri": "https://localhost:8080/"
        },
        "id": "6r-UOYfFl-SF",
        "outputId": "f04a3e8d-0be7-4be5-a4c8-8056887c7dbd"
      },
      "execution_count": null,
      "outputs": [
        {
          "output_type": "execute_result",
          "data": {
            "text/plain": [
              "21214120"
            ]
          },
          "metadata": {},
          "execution_count": 21
        }
      ]
    },
    {
      "cell_type": "code",
      "source": [
        "1 - 2121/13605"
      ],
      "metadata": {
        "colab": {
          "base_uri": "https://localhost:8080/"
        },
        "id": "6Pm38mrFmTYD",
        "outputId": "363c6379-6fd6-4fb6-b7af-d3464e33a64a"
      },
      "execution_count": null,
      "outputs": [
        {
          "output_type": "execute_result",
          "data": {
            "text/plain": [
              "0.8441014332965822"
            ]
          },
          "metadata": {},
          "execution_count": 24
        }
      ]
    },
    {
      "cell_type": "code",
      "source": [
        "os.path.getsize(model_tflite)"
      ],
      "metadata": {
        "colab": {
          "base_uri": "https://localhost:8080/"
        },
        "id": "Gsa1povIlJp9",
        "outputId": "78c6520c-7524-46c5-a994-e54e800c2dd2"
      },
      "execution_count": null,
      "outputs": [
        {
          "output_type": "execute_result",
          "data": {
            "text/plain": [
              "84569652"
            ]
          },
          "metadata": {},
          "execution_count": 18
        }
      ]
    },
    {
      "cell_type": "code",
      "source": [],
      "metadata": {
        "id": "Zye5B6uKlYQ7"
      },
      "execution_count": null,
      "outputs": []
    }
  ]
}