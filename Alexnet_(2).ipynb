{
  "nbformat": 4,
  "nbformat_minor": 0,
  "metadata": {
    "colab": {
      "provenance": [],
      "gpuType": "T4"
    },
    "kernelspec": {
      "name": "python3",
      "display_name": "Python 3"
    },
    "language_info": {
      "name": "python"
    },
    "accelerator": "GPU"
  },
  "cells": [
    {
      "cell_type": "code",
      "execution_count": null,
      "metadata": {
        "colab": {
          "base_uri": "https://localhost:8080/"
        },
        "id": "7tBmbl8UFvGc",
        "outputId": "b6b9120f-ca68-4d45-cf31-81d894d7dbbc"
      },
      "outputs": [
        {
          "output_type": "stream",
          "name": "stdout",
          "text": [
            "Mounted at /content/drive\n"
          ]
        }
      ],
      "source": [
        "from google.colab import drive\n",
        "\n",
        "# Mount Google Drive\n",
        "drive.mount('/content/drive')"
      ]
    },
    {
      "cell_type": "code",
      "source": [
        "import tensorflow as tf\n",
        "from tensorflow.keras.layers import Dense, Flatten, Dropout\n",
        "from tensorflow.keras.models import Model\n",
        "from tensorflow.keras.optimizers import Adam\n",
        "from tensorflow.keras.preprocessing.image import ImageDataGenerator\n",
        "from sklearn.model_selection import train_test_split\n",
        "from tensorflow.keras.callbacks import ReduceLROnPlateau\n",
        "from tensorflow.keras.layers import BatchNormalization\n",
        "from tensorflow.keras.layers import Conv2D"
      ],
      "metadata": {
        "id": "Dt00djLNF9Nw"
      },
      "execution_count": null,
      "outputs": []
    },
    {
      "cell_type": "code",
      "source": [
        "from keras.models import Sequential\n",
        "from keras.layers import Conv2D, MaxPooling2D, Flatten, Dense, Dropout\n",
        "\n",
        "# Initialize the AlexNet model\n",
        "model = Sequential()\n",
        "\n",
        "# Add the convolutional layers\n",
        "model.add(Conv2D(96, (11, 11), strides=(4, 4), activation='relu', input_shape=(224, 224, 3)))\n",
        "model.add(MaxPooling2D((3, 3), strides=(2, 2)))\n",
        "model.add(Conv2D(256, (5, 5), strides=(1, 1), activation='relu', padding='same'))\n",
        "model.add(MaxPooling2D((3, 3), strides=(2, 2)))\n",
        "model.add(Conv2D(384, (3, 3), strides=(1, 1), activation='relu', padding='same'))\n",
        "model.add(Conv2D(384, (3, 3), strides=(1, 1), activation='relu', padding='same'))\n",
        "model.add(Conv2D(256, (3, 3), strides=(1, 1), activation='relu', padding='same'))\n",
        "model.add(MaxPooling2D((3, 3), strides=(2, 2)))\n",
        "\n",
        "# Flatten the output and add the fully connected layers\n",
        "model.add(Flatten())\n",
        "model.add(Dense(4096, activation='relu'))\n",
        "model.add(Dropout(0.5))\n",
        "model.add(Dense(4096, activation='relu'))\n",
        "model.add(Dropout(0.5))\n",
        "model.add(Dense(10, activation='softmax'))\n",
        "\n",
        "# Print the model summary\n",
        "model.summary()"
      ],
      "metadata": {
        "colab": {
          "base_uri": "https://localhost:8080/"
        },
        "id": "JEeejFhIF_3W",
        "outputId": "2fee245e-056a-4dda-af28-ace2068af25f"
      },
      "execution_count": null,
      "outputs": [
        {
          "output_type": "stream",
          "name": "stdout",
          "text": [
            "Model: \"sequential\"\n",
            "_________________________________________________________________\n",
            " Layer (type)                Output Shape              Param #   \n",
            "=================================================================\n",
            " conv2d (Conv2D)             (None, 54, 54, 96)        34944     \n",
            "                                                                 \n",
            " max_pooling2d (MaxPooling2  (None, 26, 26, 96)        0         \n",
            " D)                                                              \n",
            "                                                                 \n",
            " conv2d_1 (Conv2D)           (None, 26, 26, 256)       614656    \n",
            "                                                                 \n",
            " max_pooling2d_1 (MaxPoolin  (None, 12, 12, 256)       0         \n",
            " g2D)                                                            \n",
            "                                                                 \n",
            " conv2d_2 (Conv2D)           (None, 12, 12, 384)       885120    \n",
            "                                                                 \n",
            " conv2d_3 (Conv2D)           (None, 12, 12, 384)       1327488   \n",
            "                                                                 \n",
            " conv2d_4 (Conv2D)           (None, 12, 12, 256)       884992    \n",
            "                                                                 \n",
            " max_pooling2d_2 (MaxPoolin  (None, 5, 5, 256)         0         \n",
            " g2D)                                                            \n",
            "                                                                 \n",
            " flatten (Flatten)           (None, 6400)              0         \n",
            "                                                                 \n",
            " dense (Dense)               (None, 4096)              26218496  \n",
            "                                                                 \n",
            " dropout (Dropout)           (None, 4096)              0         \n",
            "                                                                 \n",
            " dense_1 (Dense)             (None, 4096)              16781312  \n",
            "                                                                 \n",
            " dropout_1 (Dropout)         (None, 4096)              0         \n",
            "                                                                 \n",
            " dense_2 (Dense)             (None, 10)                40970     \n",
            "                                                                 \n",
            "=================================================================\n",
            "Total params: 46787978 (178.48 MB)\n",
            "Trainable params: 46787978 (178.48 MB)\n",
            "Non-trainable params: 0 (0.00 Byte)\n",
            "_________________________________________________________________\n"
          ]
        }
      ]
    },
    {
      "cell_type": "code",
      "source": [
        "model.compile(optimizer=Adam(learning_rate=0.0001), loss='categorical_crossentropy', metrics=['accuracy'])\n"
      ],
      "metadata": {
        "id": "vE1-6ZueHXvB"
      },
      "execution_count": null,
      "outputs": []
    },
    {
      "cell_type": "code",
      "source": [
        "# Define data augmentation for training\n",
        "train_datagen = ImageDataGenerator(\n",
        "    rescale=1./255,\n",
        "    rotation_range=20,\n",
        "    width_shift_range=0.2,\n",
        "    height_shift_range=0.2,\n",
        "    shear_range=0.2,\n",
        "    zoom_range=0.2,\n",
        "    horizontal_flip=True,\n",
        "    fill_mode='nearest'\n",
        ")\n",
        "\n",
        "# Define data augmentation for validation/testing\n",
        "val_datagen = ImageDataGenerator(rescale=1./255)\n",
        "\n",
        "# Load your dataset (replace 'train_dir' and 'val_dir' with your dataset directories)\n",
        "train_generator = train_datagen.flow_from_directory(\n",
        "    '/content/drive/MyDrive/Colab Notebooks/Tomato_train_new',\n",
        "    target_size=(224, 224),\n",
        "    batch_size=32,\n",
        "    class_mode='categorical'\n",
        ")\n",
        "\n",
        "validation_generator = val_datagen.flow_from_directory(\n",
        "    '/content/drive/MyDrive/Colab Notebooks/Leaf Disease/Tomato_test',\n",
        "    target_size=(224, 224),\n",
        "    batch_size=32,\n",
        "    class_mode='categorical'\n",
        ")"
      ],
      "metadata": {
        "colab": {
          "base_uri": "https://localhost:8080/"
        },
        "id": "NPoO07SnGLrV",
        "outputId": "c493740b-7188-4962-9652-695872aa4ccf"
      },
      "execution_count": null,
      "outputs": [
        {
          "output_type": "stream",
          "name": "stdout",
          "text": [
            "Found 8061 images belonging to 10 classes.\n",
            "Found 2295 images belonging to 10 classes.\n"
          ]
        }
      ]
    },
    {
      "cell_type": "code",
      "source": [
        "# # Train the model\n",
        "# history = model.fit(\n",
        "#     train_generator,\n",
        "#     steps_per_epoch=len(train_generator),\n",
        "#     epochs=40,\n",
        "#     validation_data=validation_generator,\n",
        "#     validation_steps=len(validation_generator)\n",
        "# )\n",
        "\n",
        "# # Train the model\n",
        "# history = model.fit(\n",
        "#     train_generator,\n",
        "#     steps_per_epoch=len(train_generator),\n",
        "#     epochs=25,\n",
        "#     validation_data=validation_generator,\n",
        "#     validation_steps=len(validation_generator),\n",
        "#     callbacks=[lr_scheduler, early_stopping]\n",
        "# )\n",
        "\n",
        "from tensorflow.keras.callbacks import ModelCheckpoint\n",
        "\n",
        "# Define a callback to save the best model\n",
        "checkpoint = ModelCheckpoint(\"/content/drive/MyDrive/Colab Notebooks/2_Alexnet_new.h5\", monitor='val_loss', verbose=1, save_best_only=True, mode='min')\n",
        "\n",
        "# Train the model with the callback\n",
        "history = model.fit(\n",
        "    train_generator,\n",
        "    steps_per_epoch=len(train_generator),\n",
        "    epochs=40,\n",
        "    validation_data=validation_generator,\n",
        "    validation_steps=len(validation_generator),\n",
        "    callbacks=[checkpoint]\n",
        ")"
      ],
      "metadata": {
        "id": "RNvC6utYG-8w",
        "colab": {
          "base_uri": "https://localhost:8080/"
        },
        "outputId": "29c636ff-bfe4-417d-e0c0-69c2df9f731b"
      },
      "execution_count": null,
      "outputs": [
        {
          "output_type": "stream",
          "name": "stdout",
          "text": [
            "Epoch 1/40\n",
            "252/252 [==============================] - ETA: 0s - loss: 2.1668 - accuracy: 0.1750\n",
            "Epoch 1: val_loss improved from inf to 2.05889, saving model to /content/drive/MyDrive/Colab Notebooks/2_Alexnet_new.h5\n"
          ]
        },
        {
          "output_type": "stream",
          "name": "stderr",
          "text": [
            "/usr/local/lib/python3.10/dist-packages/keras/src/engine/training.py:3000: UserWarning: You are saving your model as an HDF5 file via `model.save()`. This file format is considered legacy. We recommend using instead the native Keras format, e.g. `model.save('my_model.keras')`.\n",
            "  saving_api.save_model(\n"
          ]
        },
        {
          "output_type": "stream",
          "name": "stdout",
          "text": [
            "\b\b\b\b\b\b\b\b\b\b\b\b\b\b\b\b\b\b\b\b\b\b\b\b\b\b\b\b\b\b\b\b\b\b\b\b\b\b\b\b\b\b\b\b\b\b\b\b\b\b\b\b\b\b\b\b\b\b\b\b\b\b\b\b\b\b\b\b\b\b\b\b\b\b\b\b\b\b\b\b\b\b\b\b\r252/252 [==============================] - 3315s 13s/step - loss: 2.1668 - accuracy: 0.1750 - val_loss: 2.0589 - val_accuracy: 0.2253\n",
            "Epoch 2/40\n",
            "252/252 [==============================] - ETA: 0s - loss: 1.8293 - accuracy: 0.3251\n",
            "Epoch 2: val_loss did not improve from 2.05889\n",
            "252/252 [==============================] - 127s 505ms/step - loss: 1.8293 - accuracy: 0.3251 - val_loss: 2.2116 - val_accuracy: 0.1852\n",
            "Epoch 3/40\n",
            "252/252 [==============================] - ETA: 0s - loss: 1.5463 - accuracy: 0.4400\n",
            "Epoch 3: val_loss did not improve from 2.05889\n",
            "252/252 [==============================] - 126s 502ms/step - loss: 1.5463 - accuracy: 0.4400 - val_loss: 2.2706 - val_accuracy: 0.2545\n",
            "Epoch 4/40\n",
            "252/252 [==============================] - ETA: 0s - loss: 1.2789 - accuracy: 0.5429\n",
            "Epoch 4: val_loss improved from 2.05889 to 1.56335, saving model to /content/drive/MyDrive/Colab Notebooks/2_Alexnet_new.h5\n",
            "252/252 [==============================] - 132s 525ms/step - loss: 1.2789 - accuracy: 0.5429 - val_loss: 1.5634 - val_accuracy: 0.4545\n",
            "Epoch 5/40\n",
            "252/252 [==============================] - ETA: 0s - loss: 1.0595 - accuracy: 0.6180\n",
            "Epoch 5: val_loss improved from 1.56335 to 1.12520, saving model to /content/drive/MyDrive/Colab Notebooks/2_Alexnet_new.h5\n",
            "252/252 [==============================] - 136s 538ms/step - loss: 1.0595 - accuracy: 0.6180 - val_loss: 1.1252 - val_accuracy: 0.5743\n",
            "Epoch 6/40\n",
            "252/252 [==============================] - ETA: 0s - loss: 0.9329 - accuracy: 0.6734\n",
            "Epoch 6: val_loss did not improve from 1.12520\n",
            "252/252 [==============================] - 129s 511ms/step - loss: 0.9329 - accuracy: 0.6734 - val_loss: 1.3489 - val_accuracy: 0.5102\n",
            "Epoch 7/40\n",
            "252/252 [==============================] - ETA: 0s - loss: 0.8381 - accuracy: 0.7081\n",
            "Epoch 7: val_loss did not improve from 1.12520\n",
            "252/252 [==============================] - 124s 491ms/step - loss: 0.8381 - accuracy: 0.7081 - val_loss: 1.3622 - val_accuracy: 0.5242\n",
            "Epoch 8/40\n",
            "252/252 [==============================] - ETA: 0s - loss: 0.7765 - accuracy: 0.7296\n",
            "Epoch 8: val_loss improved from 1.12520 to 1.06515, saving model to /content/drive/MyDrive/Colab Notebooks/2_Alexnet_new.h5\n",
            "252/252 [==============================] - 131s 521ms/step - loss: 0.7765 - accuracy: 0.7296 - val_loss: 1.0652 - val_accuracy: 0.6144\n",
            "Epoch 9/40\n",
            "252/252 [==============================] - ETA: 0s - loss: 0.7028 - accuracy: 0.7525\n",
            "Epoch 9: val_loss improved from 1.06515 to 0.93063, saving model to /content/drive/MyDrive/Colab Notebooks/2_Alexnet_new.h5\n",
            "252/252 [==============================] - 140s 556ms/step - loss: 0.7028 - accuracy: 0.7525 - val_loss: 0.9306 - val_accuracy: 0.6702\n",
            "Epoch 10/40\n",
            "252/252 [==============================] - ETA: 0s - loss: 0.6597 - accuracy: 0.7663\n",
            "Epoch 10: val_loss did not improve from 0.93063\n",
            "252/252 [==============================] - 129s 513ms/step - loss: 0.6597 - accuracy: 0.7663 - val_loss: 1.0098 - val_accuracy: 0.6815\n",
            "Epoch 11/40\n",
            "252/252 [==============================] - ETA: 0s - loss: 0.6047 - accuracy: 0.7879\n",
            "Epoch 11: val_loss did not improve from 0.93063\n",
            "252/252 [==============================] - 128s 508ms/step - loss: 0.6047 - accuracy: 0.7879 - val_loss: 1.0408 - val_accuracy: 0.6654\n",
            "Epoch 12/40\n",
            "252/252 [==============================] - ETA: 0s - loss: 0.5690 - accuracy: 0.8003\n",
            "Epoch 12: val_loss improved from 0.93063 to 0.90111, saving model to /content/drive/MyDrive/Colab Notebooks/2_Alexnet_new.h5\n",
            "252/252 [==============================] - 128s 510ms/step - loss: 0.5690 - accuracy: 0.8003 - val_loss: 0.9011 - val_accuracy: 0.7015\n",
            "Epoch 13/40\n",
            "252/252 [==============================] - ETA: 0s - loss: 0.5670 - accuracy: 0.8049\n",
            "Epoch 13: val_loss improved from 0.90111 to 0.81433, saving model to /content/drive/MyDrive/Colab Notebooks/2_Alexnet_new.h5\n",
            "252/252 [==============================] - 135s 535ms/step - loss: 0.5670 - accuracy: 0.8049 - val_loss: 0.8143 - val_accuracy: 0.7355\n",
            "Epoch 14/40\n",
            "252/252 [==============================] - ETA: 0s - loss: 0.5103 - accuracy: 0.8196\n",
            "Epoch 14: val_loss improved from 0.81433 to 0.66057, saving model to /content/drive/MyDrive/Colab Notebooks/2_Alexnet_new.h5\n",
            "252/252 [==============================] - 136s 540ms/step - loss: 0.5103 - accuracy: 0.8196 - val_loss: 0.6606 - val_accuracy: 0.7625\n",
            "Epoch 15/40\n",
            "252/252 [==============================] - ETA: 0s - loss: 0.4943 - accuracy: 0.8227\n",
            "Epoch 15: val_loss did not improve from 0.66057\n",
            "252/252 [==============================] - 130s 515ms/step - loss: 0.4943 - accuracy: 0.8227 - val_loss: 0.6622 - val_accuracy: 0.7712\n",
            "Epoch 16/40\n",
            "252/252 [==============================] - ETA: 0s - loss: 0.4673 - accuracy: 0.8364\n",
            "Epoch 16: val_loss did not improve from 0.66057\n",
            "252/252 [==============================] - 128s 510ms/step - loss: 0.4673 - accuracy: 0.8364 - val_loss: 1.0165 - val_accuracy: 0.6793\n",
            "Epoch 17/40\n",
            "252/252 [==============================] - ETA: 0s - loss: 0.4313 - accuracy: 0.8465\n",
            "Epoch 17: val_loss improved from 0.66057 to 0.65378, saving model to /content/drive/MyDrive/Colab Notebooks/2_Alexnet_new.h5\n",
            "252/252 [==============================] - 137s 543ms/step - loss: 0.4313 - accuracy: 0.8465 - val_loss: 0.6538 - val_accuracy: 0.7704\n",
            "Epoch 18/40\n",
            "252/252 [==============================] - ETA: 0s - loss: 0.4183 - accuracy: 0.8570\n",
            "Epoch 18: val_loss did not improve from 0.65378\n",
            "252/252 [==============================] - 128s 510ms/step - loss: 0.4183 - accuracy: 0.8570 - val_loss: 0.8021 - val_accuracy: 0.7364\n",
            "Epoch 19/40\n",
            "252/252 [==============================] - ETA: 0s - loss: 0.3950 - accuracy: 0.8604\n",
            "Epoch 19: val_loss did not improve from 0.65378\n",
            "252/252 [==============================] - 125s 498ms/step - loss: 0.3950 - accuracy: 0.8604 - val_loss: 0.7341 - val_accuracy: 0.7490\n",
            "Epoch 20/40\n",
            "252/252 [==============================] - ETA: 0s - loss: 0.3800 - accuracy: 0.8659\n",
            "Epoch 20: val_loss did not improve from 0.65378\n",
            "252/252 [==============================] - 126s 502ms/step - loss: 0.3800 - accuracy: 0.8659 - val_loss: 0.6673 - val_accuracy: 0.7813\n",
            "Epoch 21/40\n",
            "252/252 [==============================] - ETA: 0s - loss: 0.3705 - accuracy: 0.8688\n",
            "Epoch 21: val_loss did not improve from 0.65378\n",
            "252/252 [==============================] - 126s 501ms/step - loss: 0.3705 - accuracy: 0.8688 - val_loss: 0.7112 - val_accuracy: 0.7760\n",
            "Epoch 22/40\n",
            "252/252 [==============================] - ETA: 0s - loss: 0.3783 - accuracy: 0.8668\n",
            "Epoch 22: val_loss improved from 0.65378 to 0.60542, saving model to /content/drive/MyDrive/Colab Notebooks/2_Alexnet_new.h5\n",
            "252/252 [==============================] - 132s 526ms/step - loss: 0.3783 - accuracy: 0.8668 - val_loss: 0.6054 - val_accuracy: 0.8131\n",
            "Epoch 23/40\n",
            "252/252 [==============================] - ETA: 0s - loss: 0.3391 - accuracy: 0.8789\n",
            "Epoch 23: val_loss did not improve from 0.60542\n",
            "252/252 [==============================] - 127s 504ms/step - loss: 0.3391 - accuracy: 0.8789 - val_loss: 0.6468 - val_accuracy: 0.8148\n",
            "Epoch 24/40\n",
            "252/252 [==============================] - ETA: 0s - loss: 0.3408 - accuracy: 0.8788\n",
            "Epoch 24: val_loss did not improve from 0.60542\n",
            "252/252 [==============================] - 127s 504ms/step - loss: 0.3408 - accuracy: 0.8788 - val_loss: 0.8425 - val_accuracy: 0.7512\n",
            "Epoch 25/40\n",
            "252/252 [==============================] - ETA: 0s - loss: 0.3190 - accuracy: 0.8857\n",
            "Epoch 25: val_loss improved from 0.60542 to 0.58132, saving model to /content/drive/MyDrive/Colab Notebooks/2_Alexnet_new.h5\n",
            "252/252 [==============================] - 131s 518ms/step - loss: 0.3190 - accuracy: 0.8857 - val_loss: 0.5813 - val_accuracy: 0.8061\n",
            "Epoch 26/40\n",
            "252/252 [==============================] - ETA: 0s - loss: 0.3080 - accuracy: 0.8885\n",
            "Epoch 26: val_loss did not improve from 0.58132\n",
            "252/252 [==============================] - 126s 500ms/step - loss: 0.3080 - accuracy: 0.8885 - val_loss: 0.8318 - val_accuracy: 0.7516\n",
            "Epoch 27/40\n",
            "252/252 [==============================] - ETA: 0s - loss: 0.3174 - accuracy: 0.8912\n",
            "Epoch 27: val_loss did not improve from 0.58132\n",
            "252/252 [==============================] - 125s 497ms/step - loss: 0.3174 - accuracy: 0.8912 - val_loss: 0.6307 - val_accuracy: 0.8270\n",
            "Epoch 28/40\n",
            "252/252 [==============================] - ETA: 0s - loss: 0.2952 - accuracy: 0.8958\n",
            "Epoch 28: val_loss did not improve from 0.58132\n",
            "252/252 [==============================] - 126s 501ms/step - loss: 0.2952 - accuracy: 0.8958 - val_loss: 0.8068 - val_accuracy: 0.7647\n",
            "Epoch 29/40\n",
            "252/252 [==============================] - ETA: 0s - loss: 0.2783 - accuracy: 0.9057\n",
            "Epoch 29: val_loss did not improve from 0.58132\n",
            "252/252 [==============================] - 123s 488ms/step - loss: 0.2783 - accuracy: 0.9057 - val_loss: 0.5860 - val_accuracy: 0.8344\n",
            "Epoch 30/40\n",
            "252/252 [==============================] - ETA: 0s - loss: 0.2708 - accuracy: 0.9039\n",
            "Epoch 30: val_loss did not improve from 0.58132\n",
            "252/252 [==============================] - 125s 496ms/step - loss: 0.2708 - accuracy: 0.9039 - val_loss: 1.3247 - val_accuracy: 0.6810\n",
            "Epoch 31/40\n",
            "252/252 [==============================] - ETA: 0s - loss: 0.2704 - accuracy: 0.9029\n",
            "Epoch 31: val_loss did not improve from 0.58132\n",
            "252/252 [==============================] - 126s 501ms/step - loss: 0.2704 - accuracy: 0.9029 - val_loss: 0.6801 - val_accuracy: 0.8126\n",
            "Epoch 32/40\n",
            "252/252 [==============================] - ETA: 0s - loss: 0.2816 - accuracy: 0.9003\n",
            "Epoch 32: val_loss did not improve from 0.58132\n",
            "252/252 [==============================] - 128s 505ms/step - loss: 0.2816 - accuracy: 0.9003 - val_loss: 0.8641 - val_accuracy: 0.7721\n",
            "Epoch 33/40\n",
            "252/252 [==============================] - ETA: 0s - loss: 0.2692 - accuracy: 0.9057\n",
            "Epoch 33: val_loss did not improve from 0.58132\n",
            "252/252 [==============================] - 125s 496ms/step - loss: 0.2692 - accuracy: 0.9057 - val_loss: 0.6501 - val_accuracy: 0.8240\n",
            "Epoch 34/40\n",
            "252/252 [==============================] - ETA: 0s - loss: 0.2308 - accuracy: 0.9225\n",
            "Epoch 34: val_loss did not improve from 0.58132\n",
            "252/252 [==============================] - 126s 499ms/step - loss: 0.2308 - accuracy: 0.9225 - val_loss: 0.7205 - val_accuracy: 0.8379\n",
            "Epoch 35/40\n",
            "252/252 [==============================] - ETA: 0s - loss: 0.2472 - accuracy: 0.9125\n",
            "Epoch 35: val_loss improved from 0.58132 to 0.55680, saving model to /content/drive/MyDrive/Colab Notebooks/2_Alexnet_new.h5\n",
            "252/252 [==============================] - 134s 532ms/step - loss: 0.2472 - accuracy: 0.9125 - val_loss: 0.5568 - val_accuracy: 0.8527\n",
            "Epoch 36/40\n",
            "252/252 [==============================] - ETA: 0s - loss: 0.2200 - accuracy: 0.9227\n",
            "Epoch 36: val_loss did not improve from 0.55680\n",
            "252/252 [==============================] - 132s 524ms/step - loss: 0.2200 - accuracy: 0.9227 - val_loss: 0.8766 - val_accuracy: 0.7813\n",
            "Epoch 37/40\n",
            "252/252 [==============================] - ETA: 0s - loss: 0.2410 - accuracy: 0.9170\n",
            "Epoch 37: val_loss did not improve from 0.55680\n",
            "252/252 [==============================] - 125s 493ms/step - loss: 0.2410 - accuracy: 0.9170 - val_loss: 1.1298 - val_accuracy: 0.7059\n",
            "Epoch 38/40\n",
            "252/252 [==============================] - ETA: 0s - loss: 0.2190 - accuracy: 0.9257\n",
            "Epoch 38: val_loss did not improve from 0.55680\n",
            "252/252 [==============================] - 128s 506ms/step - loss: 0.2190 - accuracy: 0.9257 - val_loss: 0.8772 - val_accuracy: 0.7804\n",
            "Epoch 39/40\n",
            "252/252 [==============================] - ETA: 0s - loss: 0.2476 - accuracy: 0.9114\n",
            "Epoch 39: val_loss did not improve from 0.55680\n",
            "252/252 [==============================] - 131s 520ms/step - loss: 0.2476 - accuracy: 0.9114 - val_loss: 0.6976 - val_accuracy: 0.7813\n",
            "Epoch 40/40\n",
            "252/252 [==============================] - ETA: 0s - loss: 0.1986 - accuracy: 0.9318\n",
            "Epoch 40: val_loss did not improve from 0.55680\n",
            "252/252 [==============================] - 128s 509ms/step - loss: 0.1986 - accuracy: 0.9318 - val_loss: 0.7251 - val_accuracy: 0.8192\n"
          ]
        }
      ]
    },
    {
      "cell_type": "code",
      "source": [],
      "metadata": {
        "id": "YN1lMKs0uXHA"
      },
      "execution_count": null,
      "outputs": []
    }
  ]
}